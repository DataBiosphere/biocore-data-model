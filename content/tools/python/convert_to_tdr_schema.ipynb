{
 "cells": [
  {
   "cell_type": "code",
   "execution_count": 1,
   "id": "f87a430c",
   "metadata": {},
   "outputs": [
    {
     "ename": "IndexError",
     "evalue": "list index out of range",
     "output_type": "error",
     "traceback": [
      "\u001b[0;31m---------------------------------------------------------------------------\u001b[0m",
      "\u001b[0;31mIndexError\u001b[0m                                Traceback (most recent call last)",
      "Cell \u001b[0;32mIn[1], line 90\u001b[0m\n\u001b[1;32m     87\u001b[0m output_file \u001b[38;5;241m=\u001b[39m \u001b[38;5;124m\"\u001b[39m\u001b[38;5;124moutput/AnVILSubmissionDataFindabilitySubsetSchema.tdr.json\u001b[39m\u001b[38;5;124m\"\u001b[39m\n\u001b[1;32m     89\u001b[0m \u001b[38;5;66;03m# Execution\u001b[39;00m\n\u001b[0;32m---> 90\u001b[0m \u001b[43mconvert_schema\u001b[49m\u001b[43m(\u001b[49m\u001b[43minput_file\u001b[49m\u001b[43m,\u001b[49m\u001b[43m \u001b[49m\u001b[43moutput_file\u001b[49m\u001b[43m)\u001b[49m\n",
      "Cell \u001b[0;32mIn[1], line 26\u001b[0m, in \u001b[0;36mconvert_schema\u001b[0;34m(input_file, output_file)\u001b[0m\n\u001b[1;32m     24\u001b[0m \u001b[38;5;28;01mfor\u001b[39;00m table, table_def \u001b[38;5;129;01min\u001b[39;00m input_schema_filtered\u001b[38;5;241m.\u001b[39mitems():\n\u001b[1;32m     25\u001b[0m     required_fields \u001b[38;5;241m=\u001b[39m table_def\u001b[38;5;241m.\u001b[39mget(\u001b[38;5;124m\"\u001b[39m\u001b[38;5;124mrequired\u001b[39m\u001b[38;5;124m\"\u001b[39m)\n\u001b[0;32m---> 26\u001b[0m     primary_keys[table] \u001b[38;5;241m=\u001b[39m \u001b[43mrequired_fields\u001b[49m\u001b[43m[\u001b[49m\u001b[38;5;241;43m0\u001b[39;49m\u001b[43m]\u001b[49m\n\u001b[1;32m     27\u001b[0m     properties \u001b[38;5;241m=\u001b[39m table_def\u001b[38;5;241m.\u001b[39mget(\u001b[38;5;124m\"\u001b[39m\u001b[38;5;124mproperties\u001b[39m\u001b[38;5;124m\"\u001b[39m)\n\u001b[1;32m     28\u001b[0m     column_list \u001b[38;5;241m=\u001b[39m []\n",
      "\u001b[0;31mIndexError\u001b[0m: list index out of range"
     ]
    }
   ],
   "source": [
    "# Imports\n",
    "import json\n",
    "import re\n",
    "\n",
    "# Functions\n",
    "def convert_schema(input_file, output_file):\n",
    "    # Read in input file\n",
    "    with open(input_file) as infile:\n",
    "        input_schema = json.load(infile)\n",
    "\n",
    "    # Parse and convert input file\n",
    "    input_schema_filtered = {}\n",
    "    output_schema = {}\n",
    "    table_list = []\n",
    "    relationship_list = []\n",
    "    primary_keys = {}\n",
    "    foreign_keys = []\n",
    "    if input_schema.get(\"$defs\"):\n",
    "        # Determine the set of tables to consider\n",
    "        for table, table_def in input_schema[\"$defs\"].items():\n",
    "            if table_def.get(\"type\") == \"object\" and table_def.get(\"properties\"):\n",
    "                input_schema_filtered[table] = table_def\n",
    "        # Loop through tables to consider and build table objects\n",
    "        for table, table_def in input_schema_filtered.items():\n",
    "            required_fields = table_def.get(\"required\")\n",
    "            print(table, required_fields)\n",
    "            primary_keys[table] = required_fields[0]\n",
    "            properties = table_def.get(\"properties\")\n",
    "            column_list = []\n",
    "            if properties:\n",
    "                # Loop through columns and build column objects\n",
    "                for column, column_def in properties.items():\n",
    "                    # Record foreign keys\n",
    "                    if column_def.get(\"$ref\"):\n",
    "                        fk_col_search = re.search(r\"(^.*)_fk$\", column) # requires the _fk suffix to identify a foreign key\n",
    "                        if fk_col_search:\n",
    "                            final_column_name = fk_col_search.group(1) \n",
    "                        else:\n",
    "                            final_column_name = column\n",
    "                        target_tab_search = re.search(r\"\\$defs\\/(.*)$\", column_def.get(\"$ref\"))\n",
    "                        if target_tab_search:\n",
    "                            target_table = target_tab_search.group(1)\n",
    "                            if target_table in input_schema_filtered.keys():\n",
    "                                foreign_keys.append({\"from_table\": table, \"from_column\": final_column_name, \"to_table\": target_table})\n",
    "                    else:\n",
    "                        final_column_name = column\n",
    "                    # Build column object\n",
    "                    array_of = False\n",
    "                    required = True if column in required_fields else False\n",
    "                    initial_data_type = column_def.get(\"type\")\n",
    "                    if initial_data_type == \"array\":\n",
    "                        final_data_type = column_def[\"items\"].get(\"type\") # this is returning array but should be the type of the array\n",
    "                        array_of = True\n",
    "                    elif initial_data_type == \"number\":\n",
    "                        final_data_type = \"numeric\"\n",
    "                    elif initial_data_type:\n",
    "                        final_data_type = initial_data_type\n",
    "                    else:\n",
    "                        final_data_type = \"string\"\n",
    "                    column_dict = {\"name\": final_column_name, \"datatype\": final_data_type, \"array_of\": array_of, \"required\": required}\n",
    "                    column_list.append(column_dict)   \n",
    "            primary_key = required_fields if required_fields else []\n",
    "            table_dict = {\"name\": table, \"columns\": column_list, \"primaryKey\": primary_key}\n",
    "            table_list.append(table_dict)\n",
    "\n",
    "        # Loop through recorded foreign keys and build relationship objects\n",
    "        for fk_entry in foreign_keys:\n",
    "            from_table = fk_entry[\"from_table\"]\n",
    "            from_column = fk_entry[\"from_column\"]\n",
    "            to_table = fk_entry[\"to_table\"]\n",
    "            to_column = primary_keys.get(to_table)\n",
    "            rel_name = from_table + \".\" + from_column + \"_to_\" + to_table + \".\" + to_column\n",
    "            relationship_dict = {\"name\": rel_name, \"from\": {\"table\": from_table, \"column\": from_column}, \"to\": {\"table\": to_table, \"column\": to_column}}\n",
    "            relationship_list.append(relationship_dict)\n",
    "\n",
    "        # Add table and relationship objects to output schema\n",
    "        if table_list:\n",
    "            output_schema[\"tables\"] = table_list\n",
    "        if relationship_list:\n",
    "            output_schema[\"relationships\"] = relationship_list\n",
    "\n",
    "        # Write out output file\n",
    "        with open(output_file, \"w\") as outfile:\n",
    "            json.dump(output_schema, outfile)\n",
    "\n",
    "# Parameters\n",
    "input_file = \"input/AnVILSubmissionDataFindabilitySubsetSchema.schema.json\"\n",
    "output_file = \"output/AnVILSubmissionDataFindabilitySubsetSchema.tdr.json\"\n",
    "\n",
    "# Execution\n",
    "convert_schema(input_file, output_file)"
   ]
  },
  {
   "cell_type": "code",
   "execution_count": null,
   "id": "65c1a591",
   "metadata": {},
   "outputs": [
    {
     "name": "stdout",
     "output_type": "stream",
     "text": [
      "done\n"
     ]
    }
   ],
   "source": [
    "print(\"done\")"
   ]
  }
 ],
 "metadata": {
  "kernelspec": {
   "display_name": "Python 3 (ipykernel)",
   "language": "python",
   "name": "python3"
  },
  "language_info": {
   "codemirror_mode": {
    "name": "ipython",
    "version": 3
   },
   "file_extension": ".py",
   "mimetype": "text/x-python",
   "name": "python",
   "nbconvert_exporter": "python",
   "pygments_lexer": "ipython3",
   "version": "3.11.8"
  }
 },
 "nbformat": 4,
 "nbformat_minor": 5
}
